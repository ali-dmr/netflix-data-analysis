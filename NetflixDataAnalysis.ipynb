{
 "cells": [
  {
   "cell_type": "code",
   "execution_count": 102,
   "id": "c964e5a2-bee8-4d5e-89df-6c8efb232346",
   "metadata": {},
   "outputs": [],
   "source": [
    "# start_date: 2025_07_16"
   ]
  },
  {
   "cell_type": "code",
   "execution_count": 103,
   "id": "a99f18a3-4a7c-48c0-902c-be067ecd3592",
   "metadata": {},
   "outputs": [],
   "source": [
    "import pandas as pd\n",
    "import seaborn as sns\n",
    "import matplotlib.pyplot as plt"
   ]
  },
  {
   "cell_type": "code",
   "execution_count": 104,
   "id": "3d736633-01a0-49aa-b55e-d11523372b7b",
   "metadata": {},
   "outputs": [],
   "source": [
    "# Load dataset\n",
    "netflix_data = pd.read_csv(\"datasets/Netflix_Shows_Movies.csv\")"
   ]
  },
  {
   "cell_type": "code",
   "execution_count": 105,
   "id": "eb018d15-c951-45ec-a4e7-1cc721e9ac00",
   "metadata": {},
   "outputs": [
    {
     "data": {
      "text/html": [
       "<div>\n",
       "<style scoped>\n",
       "    .dataframe tbody tr th:only-of-type {\n",
       "        vertical-align: middle;\n",
       "    }\n",
       "\n",
       "    .dataframe tbody tr th {\n",
       "        vertical-align: top;\n",
       "    }\n",
       "\n",
       "    .dataframe thead th {\n",
       "        text-align: right;\n",
       "    }\n",
       "</style>\n",
       "<table border=\"1\" class=\"dataframe\">\n",
       "  <thead>\n",
       "    <tr style=\"text-align: right;\">\n",
       "      <th></th>\n",
       "      <th>index</th>\n",
       "      <th>release_year</th>\n",
       "      <th>runtime</th>\n",
       "      <th>imdb_score</th>\n",
       "      <th>imdb_votes</th>\n",
       "    </tr>\n",
       "  </thead>\n",
       "  <tbody>\n",
       "    <tr>\n",
       "      <th>count</th>\n",
       "      <td>5283.000000</td>\n",
       "      <td>5283.000000</td>\n",
       "      <td>5283.000000</td>\n",
       "      <td>5283.000000</td>\n",
       "      <td>5.267000e+03</td>\n",
       "    </tr>\n",
       "    <tr>\n",
       "      <th>mean</th>\n",
       "      <td>2641.000000</td>\n",
       "      <td>2015.879992</td>\n",
       "      <td>79.199886</td>\n",
       "      <td>6.533447</td>\n",
       "      <td>2.340719e+04</td>\n",
       "    </tr>\n",
       "    <tr>\n",
       "      <th>std</th>\n",
       "      <td>1525.215067</td>\n",
       "      <td>7.346098</td>\n",
       "      <td>38.915974</td>\n",
       "      <td>1.160932</td>\n",
       "      <td>8.713432e+04</td>\n",
       "    </tr>\n",
       "    <tr>\n",
       "      <th>min</th>\n",
       "      <td>0.000000</td>\n",
       "      <td>1953.000000</td>\n",
       "      <td>0.000000</td>\n",
       "      <td>1.500000</td>\n",
       "      <td>5.000000e+00</td>\n",
       "    </tr>\n",
       "    <tr>\n",
       "      <th>25%</th>\n",
       "      <td>1320.500000</td>\n",
       "      <td>2015.000000</td>\n",
       "      <td>45.000000</td>\n",
       "      <td>5.800000</td>\n",
       "      <td>5.210000e+02</td>\n",
       "    </tr>\n",
       "    <tr>\n",
       "      <th>50%</th>\n",
       "      <td>2641.000000</td>\n",
       "      <td>2018.000000</td>\n",
       "      <td>87.000000</td>\n",
       "      <td>6.600000</td>\n",
       "      <td>2.279000e+03</td>\n",
       "    </tr>\n",
       "    <tr>\n",
       "      <th>75%</th>\n",
       "      <td>3961.500000</td>\n",
       "      <td>2020.000000</td>\n",
       "      <td>106.000000</td>\n",
       "      <td>7.400000</td>\n",
       "      <td>1.014400e+04</td>\n",
       "    </tr>\n",
       "    <tr>\n",
       "      <th>max</th>\n",
       "      <td>5282.000000</td>\n",
       "      <td>2022.000000</td>\n",
       "      <td>235.000000</td>\n",
       "      <td>9.600000</td>\n",
       "      <td>2.268288e+06</td>\n",
       "    </tr>\n",
       "  </tbody>\n",
       "</table>\n",
       "</div>"
      ],
      "text/plain": [
       "             index  release_year      runtime   imdb_score    imdb_votes\n",
       "count  5283.000000   5283.000000  5283.000000  5283.000000  5.267000e+03\n",
       "mean   2641.000000   2015.879992    79.199886     6.533447  2.340719e+04\n",
       "std    1525.215067      7.346098    38.915974     1.160932  8.713432e+04\n",
       "min       0.000000   1953.000000     0.000000     1.500000  5.000000e+00\n",
       "25%    1320.500000   2015.000000    45.000000     5.800000  5.210000e+02\n",
       "50%    2641.000000   2018.000000    87.000000     6.600000  2.279000e+03\n",
       "75%    3961.500000   2020.000000   106.000000     7.400000  1.014400e+04\n",
       "max    5282.000000   2022.000000   235.000000     9.600000  2.268288e+06"
      ]
     },
     "execution_count": 105,
     "metadata": {},
     "output_type": "execute_result"
    }
   ],
   "source": [
    "# Clean, Transform and Preprocess\n",
    "netflix_data.describe()"
   ]
  },
  {
   "cell_type": "code",
   "execution_count": 106,
   "id": "a22f271a-ccb0-4263-a481-dd8891497dcf",
   "metadata": {},
   "outputs": [
    {
     "name": "stdout",
     "output_type": "stream",
     "text": [
      "<class 'pandas.core.frame.DataFrame'>\n",
      "RangeIndex: 5283 entries, 0 to 5282\n",
      "Data columns (total 11 columns):\n",
      " #   Column             Non-Null Count  Dtype  \n",
      "---  ------             --------------  -----  \n",
      " 0   index              5283 non-null   int64  \n",
      " 1   id                 5283 non-null   object \n",
      " 2   title              5283 non-null   object \n",
      " 3   type               5283 non-null   object \n",
      " 4   description        5278 non-null   object \n",
      " 5   release_year       5283 non-null   int64  \n",
      " 6   age_certification  2998 non-null   object \n",
      " 7   runtime            5283 non-null   int64  \n",
      " 8   imdb_id            5283 non-null   object \n",
      " 9   imdb_score         5283 non-null   float64\n",
      " 10  imdb_votes         5267 non-null   float64\n",
      "dtypes: float64(2), int64(3), object(6)\n",
      "memory usage: 454.1+ KB\n"
     ]
    }
   ],
   "source": [
    "netflix_data.info()"
   ]
  },
  {
   "cell_type": "code",
   "execution_count": 107,
   "id": "038cfd4a-1599-4b6a-a69a-015ec3be2a63",
   "metadata": {},
   "outputs": [
    {
     "data": {
      "text/plain": [
       "index                   0\n",
       "id                      0\n",
       "title                   0\n",
       "type                    0\n",
       "description             5\n",
       "release_year            0\n",
       "age_certification    2285\n",
       "runtime                 0\n",
       "imdb_id                 0\n",
       "imdb_score              0\n",
       "imdb_votes             16\n",
       "dtype: int64"
      ]
     },
     "execution_count": 107,
     "metadata": {},
     "output_type": "execute_result"
    }
   ],
   "source": [
    "netflix_data.isna().sum()"
   ]
  },
  {
   "cell_type": "code",
   "execution_count": 108,
   "id": "d04257b6-79ed-49d1-971f-5ddceeb3eda3",
   "metadata": {},
   "outputs": [],
   "source": [
    "# Fill NA values with reasonable values\n",
    "netflix_data[\"age_certification\"].fillna(\"Unknown\", inplace=True)\n",
    "netflix_data[\"imdb_votes\"].fillna(netflix_data[\"imdb_votes\"].median(), inplace=True)\n",
    "netflix_data[\"description\"].fillna(\"Unknown\", inplace=True)"
   ]
  },
  {
   "cell_type": "code",
   "execution_count": 109,
   "id": "0b89cc75-c784-4700-b423-76724bc06297",
   "metadata": {},
   "outputs": [],
   "source": [
    "# Drop unnecessary columns\n",
    "netflix_data.drop(columns=\"index\", axis=1, inplace=True)"
   ]
  },
  {
   "cell_type": "code",
   "execution_count": 110,
   "id": "5d824f7c-947b-4488-986e-7ba5f963cb9b",
   "metadata": {},
   "outputs": [],
   "source": [
    "# Change column name\n",
    "netflix_data.rename(columns={\"runtime\": \"runtime_in_min\"}, inplace=True)"
   ]
  },
  {
   "cell_type": "code",
   "execution_count": null,
   "id": "08a06d69-0e09-4747-aa10-8e32fd67c98d",
   "metadata": {},
   "outputs": [],
   "source": []
  },
  {
   "cell_type": "code",
   "execution_count": 111,
   "id": "8ebf747a-bfaa-40c9-a548-9dd98ea5e7ec",
   "metadata": {},
   "outputs": [
    {
     "data": {
      "text/plain": [
       "type\n",
       "MOVIE    6.27\n",
       "SHOW     7.02\n",
       "Name: imdb_score, dtype: float64"
      ]
     },
     "execution_count": 111,
     "metadata": {},
     "output_type": "execute_result"
    }
   ],
   "source": [
    "# 1. Which type (MOVIE or SHOW) of content have the highest average IMDb scores?\n",
    "\n",
    "netflix_data.groupby(\"type\")[\"imdb_score\"].mean().round(2)"
   ]
  },
  {
   "cell_type": "code",
   "execution_count": 112,
   "id": "04498ed5-93d1-4706-93d1-a961b7245eca",
   "metadata": {},
   "outputs": [
    {
     "data": {
      "text/plain": [
       "type\n",
       "MOVIE    3407\n",
       "SHOW     1876\n",
       "Name: id, dtype: int64"
      ]
     },
     "execution_count": 112,
     "metadata": {},
     "output_type": "execute_result"
    }
   ],
   "source": [
    "# Is it because MOVIEs have more entries?\n",
    "\n",
    "netflix_data.groupby(\"type\")[\"id\"].count()\n",
    "\n",
    "# Yes, there are more MOVIEs, which allows for more outliers that can decrease the average imdb_score. How about the median value?"
   ]
  },
  {
   "cell_type": "code",
   "execution_count": 113,
   "id": "1099862f-c3f1-4b04-90aa-8f8868b88790",
   "metadata": {},
   "outputs": [
    {
     "data": {
      "text/plain": [
       "type\n",
       "MOVIE    6.4\n",
       "SHOW     7.2\n",
       "Name: imdb_score, dtype: float64"
      ]
     },
     "execution_count": 113,
     "metadata": {},
     "output_type": "execute_result"
    }
   ],
   "source": [
    "netflix_data.groupby(\"type\")[\"imdb_score\"].median().round(2)\n",
    "\n",
    "# SHOWs also have a better median value, which can show us that maybe the SHOWs on Netflix are more succesfull than the MOVIEs on Netflix."
   ]
  },
  {
   "cell_type": "code",
   "execution_count": 114,
   "id": "9e6efba1-551f-462f-a64b-89c06e99dac3",
   "metadata": {},
   "outputs": [
    {
     "data": {
      "image/png": "[encoded data removed]",
      "text/plain": [
       "<Figure size 500x400 with 1 Axes>"
      ]
     },
     "metadata": {},
     "output_type": "display_data"
    }
   ],
   "source": [
    "# Plot the data\n",
    "plt.figure(figsize=(5, 4))\n",
    "sns.boxplot(x='type', y='imdb_score', data=netflix_data)\n",
    "plt.xlabel('Content Type')\n",
    "plt.ylabel('IMDb Score')\n",
    "plt.title('IMDb Score Distribution by Content Type')\n",
    "plt.savefig('plots/boxplot_type_imdb.png')\n",
    "plt.show()"
   ]
  },
  {
   "cell_type": "code",
   "execution_count": 115,
   "id": "98455bc1-2a8b-4e48-99cd-b938a72fa1d0",
   "metadata": {},
   "outputs": [
    {
     "name": "stdout",
     "output_type": "stream",
     "text": [
      "Number of IMDb score outliers in movies: 54\n",
      "Percent of IMDb score outliers in movies: 1.02%\n",
      "Number of IMDb score outliers in shows: 44\n",
      "Percent of IMDB score outliers in shows: 0.83%\n"
     ]
    }
   ],
   "source": [
    "# Count the outliers of each type of content\n",
    "\n",
    "movies = netflix_data[netflix_data['type'] == 'MOVIE']\n",
    "shows = netflix_data[netflix_data['type'] == 'SHOW']\n",
    "\n",
    "def count_outliers(series):\n",
    "    q1 = series.quantile(0.25)\n",
    "    q3 = series.quantile(0.75)\n",
    "    iqr = q3 - q1\n",
    "    lower = q1 - 1.5 * iqr\n",
    "    return (series < lower).sum()\n",
    "    \n",
    "movie_outliers = count_outliers(movies['imdb_score'])\n",
    "show_outliers = count_outliers(shows['imdb_score'])\n",
    "movie_outliers_in_pct = (movie_outliers / netflix_data[\"imdb_score\"].count()).round(4) * 100\n",
    "show_outliers_in_pct = (show_outliers / netflix_data[\"imdb_score\"].count()).round(4) * 100\n",
    "\n",
    "print(f\"Number of IMDb score outliers in movies: {movie_outliers}\")\n",
    "print(f\"Percent of IMDb score outliers in movies: {movie_outliers_in_pct}%\")\n",
    "print(f\"Number of IMDb score outliers in shows: {show_outliers}\")\n",
    "print(f\"Percent of IMDB score outliers in shows: {show_outliers_in_pct}%\")\n",
    "\n"
   ]
  },
  {
   "cell_type": "code",
   "execution_count": 167,
   "id": "498932ec-359c-4d73-a4e7-51c3448aac33",
   "metadata": {},
   "outputs": [
    {
     "name": "stderr",
     "output_type": "stream",
     "text": [
      "/opt/anaconda3/lib/python3.11/site-packages/seaborn/_oldcore.py:1119: FutureWarning: use_inf_as_na option is deprecated and will be removed in a future version. Convert inf values to NaN before operating instead.\n",
      "  with pd.option_context('mode.use_inf_as_na', True):\n",
      "/opt/anaconda3/lib/python3.11/site-packages/seaborn/_oldcore.py:1119: FutureWarning: use_inf_as_na option is deprecated and will be removed in a future version. Convert inf values to NaN before operating instead.\n",
      "  with pd.option_context('mode.use_inf_as_na', True):\n"
     ]
    },
    {
     "data": {
      "text/plain": [
       "<Axes: xlabel='Age Certification', ylabel='IMDB Score'>"
      ]
     },
     "execution_count": 167,
     "metadata": {},
     "output_type": "execute_result"
    },
    {
     "data": {
      "image/png": "[encoded data removed]",
      "text/plain": [
       "<Figure size 700x500 with 1 Axes>"
      ]
     },
     "metadata": {},
     "output_type": "display_data"
    }
   ],
   "source": [
    "# How does content rating (age certification) affect viewer ratings?\n",
    "age_imdbscore = netflix_data.groupby(['age_certification'])[['imdb_score']].mean().sort_values(by='imdb_score')\n",
    "age_imdbscore.reset_index()\n",
    "plt.figure(figsize=(7,5))\n",
    "plt.xlabel('Age Certification')\n",
    "plt.ylabel('IMDB Score')\n",
    "sns.lineplot(x='age_certification', y='imdb_score', data=age_imdbscore)\n",
    "\n",
    "# Results show that there is no clear trend between the IMDB Scores and the Age Certifications."
   ]
  },
  {
   "cell_type": "code",
   "execution_count": 221,
   "id": "7d8c422c-191d-4ecc-8943-0df4a77d03d9",
   "metadata": {},
   "outputs": [
    {
     "name": "stderr",
     "output_type": "stream",
     "text": [
      "/opt/anaconda3/lib/python3.11/site-packages/seaborn/_oldcore.py:1119: FutureWarning: use_inf_as_na option is deprecated and will be removed in a future version. Convert inf values to NaN before operating instead.\n",
      "  with pd.option_context('mode.use_inf_as_na', True):\n",
      "/opt/anaconda3/lib/python3.11/site-packages/seaborn/_oldcore.py:1119: FutureWarning: use_inf_as_na option is deprecated and will be removed in a future version. Convert inf values to NaN before operating instead.\n",
      "  with pd.option_context('mode.use_inf_as_na', True):\n"
     ]
    },
    {
     "data": {
      "image/png": "[encoded data removed]",
      "text/plain": [
       "<Figure size 500x400 with 1 Axes>"
      ]
     },
     "metadata": {},
     "output_type": "display_data"
    }
   ],
   "source": [
    "#  Is there a trend in quality over time (IMDb score vs. release year)?\n",
    "\n",
    "release_year_imdbscore_movies = movies.groupby(['release_year'])[['imdb_score']].mean().sort_values(by='release_year').reset_index()\n",
    "release_year_imdbscore_shows = shows.groupby(['release_year'])[['imdb_score']].mean().sort_values(by='release_year').reset_index()\n",
    "plt.figure(figsize=(5, 4))\n",
    "sns.lineplot(x='release_year', y='imdb_score', data=release_year_imdbscore_movies)\n",
    "plt.xlabel('Release Year')\n",
    "plt.xlim(1950, 2022)\n",
    "plt.ylabel('IMDb Score')\n",
    "plt.title('IMDb Score of Movies by Release Year')\n",
    "#plt.savefig('plots_images/lineplot_year_imdb_movies.png')\n",
    "plt.show()\n",
    "\n",
    "#release_year_imdbscore_shows.to_csv('datasets/releaseYearIMDB_Shows.csv')\n",
    "#release_year_imdbscore_movies.to_csv('datasets/releaseYearIMDB_Movies.csv')\n",
    "\n",
    "# Esspacially for shows-data, it is clear that there are no sufficient entries in the dataset. This could be seen in the fluctiations.\n",
    "# However, for both content-type there is no clear pattern. But it would not be wrong to say that the trends show that the imdb_scores are\n",
    "# getting worse with the time."
   ]
  },
  {
   "cell_type": "code",
   "execution_count": 233,
   "id": "d503cd5c-9a4a-4366-8b56-87f93eec5fd9",
   "metadata": {},
   "outputs": [
    {
     "data": {
      "text/html": [
       "<style type=\"text/css\">\n",
       "#T_02a9d_row0_col0 {\n",
       "  background-color: #75c465;\n",
       "  color: #000000;\n",
       "}\n",
       "#T_02a9d_row0_col1, #T_02a9d_row1_col2 {\n",
       "  background-color: #006837;\n",
       "  color: #f1f1f1;\n",
       "}\n",
       "#T_02a9d_row0_col2 {\n",
       "  background-color: #fff2aa;\n",
       "  color: #000000;\n",
       "}\n",
       "#T_02a9d_row0_col3, #T_02a9d_row0_col6 {\n",
       "  background-color: #feeb9d;\n",
       "  color: #000000;\n",
       "}\n",
       "#T_02a9d_row0_col4 {\n",
       "  background-color: #feea9b;\n",
       "  color: #000000;\n",
       "}\n",
       "#T_02a9d_row0_col5 {\n",
       "  background-color: #fede89;\n",
       "  color: #000000;\n",
       "}\n",
       "#T_02a9d_row0_col7 {\n",
       "  background-color: #e54e35;\n",
       "  color: #f1f1f1;\n",
       "}\n",
       "#T_02a9d_row0_col8 {\n",
       "  background-color: #d83128;\n",
       "  color: #f1f1f1;\n",
       "}\n",
       "#T_02a9d_row0_col9, #T_02a9d_row1_col9 {\n",
       "  background-color: #a50026;\n",
       "  color: #f1f1f1;\n",
       "}\n",
       "#T_02a9d_row1_col0 {\n",
       "  background-color: #abdb6d;\n",
       "  color: #000000;\n",
       "}\n",
       "#T_02a9d_row1_col1 {\n",
       "  background-color: #199750;\n",
       "  color: #f1f1f1;\n",
       "}\n",
       "#T_02a9d_row1_col3 {\n",
       "  background-color: #2aa054;\n",
       "  color: #f1f1f1;\n",
       "}\n",
       "#T_02a9d_row1_col4 {\n",
       "  background-color: #9bd469;\n",
       "  color: #000000;\n",
       "}\n",
       "#T_02a9d_row1_col5 {\n",
       "  background-color: #dff293;\n",
       "  color: #000000;\n",
       "}\n",
       "#T_02a9d_row1_col6 {\n",
       "  background-color: #e8f59f;\n",
       "  color: #000000;\n",
       "}\n",
       "#T_02a9d_row1_col7 {\n",
       "  background-color: #fdb365;\n",
       "  color: #000000;\n",
       "}\n",
       "#T_02a9d_row1_col8 {\n",
       "  background-color: #f8864f;\n",
       "  color: #f1f1f1;\n",
       "}\n",
       "</style>\n",
       "<table id=\"T_02a9d\">\n",
       "  <thead>\n",
       "    <tr>\n",
       "      <th class=\"index_name level0\" >release_year</th>\n",
       "      <th id=\"T_02a9d_level0_col0\" class=\"col_heading level0 col0\" >2013</th>\n",
       "      <th id=\"T_02a9d_level0_col1\" class=\"col_heading level0 col1\" >2014</th>\n",
       "      <th id=\"T_02a9d_level0_col2\" class=\"col_heading level0 col2\" >2015</th>\n",
       "      <th id=\"T_02a9d_level0_col3\" class=\"col_heading level0 col3\" >2016</th>\n",
       "      <th id=\"T_02a9d_level0_col4\" class=\"col_heading level0 col4\" >2017</th>\n",
       "      <th id=\"T_02a9d_level0_col5\" class=\"col_heading level0 col5\" >2018</th>\n",
       "      <th id=\"T_02a9d_level0_col6\" class=\"col_heading level0 col6\" >2019</th>\n",
       "      <th id=\"T_02a9d_level0_col7\" class=\"col_heading level0 col7\" >2020</th>\n",
       "      <th id=\"T_02a9d_level0_col8\" class=\"col_heading level0 col8\" >2021</th>\n",
       "      <th id=\"T_02a9d_level0_col9\" class=\"col_heading level0 col9\" >2022</th>\n",
       "    </tr>\n",
       "    <tr>\n",
       "      <th class=\"index_name level0\" >type</th>\n",
       "      <th class=\"blank col0\" >&nbsp;</th>\n",
       "      <th class=\"blank col1\" >&nbsp;</th>\n",
       "      <th class=\"blank col2\" >&nbsp;</th>\n",
       "      <th class=\"blank col3\" >&nbsp;</th>\n",
       "      <th class=\"blank col4\" >&nbsp;</th>\n",
       "      <th class=\"blank col5\" >&nbsp;</th>\n",
       "      <th class=\"blank col6\" >&nbsp;</th>\n",
       "      <th class=\"blank col7\" >&nbsp;</th>\n",
       "      <th class=\"blank col8\" >&nbsp;</th>\n",
       "      <th class=\"blank col9\" >&nbsp;</th>\n",
       "    </tr>\n",
       "  </thead>\n",
       "  <tbody>\n",
       "    <tr>\n",
       "      <th id=\"T_02a9d_level0_row0\" class=\"row_heading level0 row0\" >MOVIE</th>\n",
       "      <td id=\"T_02a9d_row0_col0\" class=\"data row0 col0\" >6.448454</td>\n",
       "      <td id=\"T_02a9d_row0_col1\" class=\"data row0 col1\" >6.586111</td>\n",
       "      <td id=\"T_02a9d_row0_col2\" class=\"data row0 col2\" >6.252239</td>\n",
       "      <td id=\"T_02a9d_row0_col3\" class=\"data row0 col3\" >6.237559</td>\n",
       "      <td id=\"T_02a9d_row0_col4\" class=\"data row0 col4\" >6.236243</td>\n",
       "      <td id=\"T_02a9d_row0_col5\" class=\"data row0 col5\" >6.212975</td>\n",
       "      <td id=\"T_02a9d_row0_col6\" class=\"data row0 col6\" >6.237527</td>\n",
       "      <td id=\"T_02a9d_row0_col7\" class=\"data row0 col7\" >6.062408</td>\n",
       "      <td id=\"T_02a9d_row0_col8\" class=\"data row0 col8\" >6.031630</td>\n",
       "      <td id=\"T_02a9d_row0_col9\" class=\"data row0 col9\" >5.968889</td>\n",
       "    </tr>\n",
       "    <tr>\n",
       "      <th id=\"T_02a9d_level0_row1\" class=\"row_heading level0 row1\" >SHOW</th>\n",
       "      <td id=\"T_02a9d_row1_col0\" class=\"data row1 col0\" >7.113514</td>\n",
       "      <td id=\"T_02a9d_row1_col1\" class=\"data row1 col1\" >7.286047</td>\n",
       "      <td id=\"T_02a9d_row1_col2\" class=\"data row1 col2\" >7.366304</td>\n",
       "      <td id=\"T_02a9d_row1_col3\" class=\"data row1 col3\" >7.264493</td>\n",
       "      <td id=\"T_02a9d_row1_col4\" class=\"data row1 col4\" >7.135593</td>\n",
       "      <td id=\"T_02a9d_row1_col5\" class=\"data row1 col5\" >7.026923</td>\n",
       "      <td id=\"T_02a9d_row1_col6\" class=\"data row1 col6\" >7.009643</td>\n",
       "      <td id=\"T_02a9d_row1_col7\" class=\"data row1 col7\" >6.803600</td>\n",
       "      <td id=\"T_02a9d_row1_col8\" class=\"data row1 col8\" >6.747101</td>\n",
       "      <td id=\"T_02a9d_row1_col9\" class=\"data row1 col9\" >6.551087</td>\n",
       "    </tr>\n",
       "  </tbody>\n",
       "</table>\n"
      ],
      "text/plain": [
       "<pandas.io.formats.style.Styler at 0x31ff772d0>"
      ]
     },
     "execution_count": 233,
     "metadata": {},
     "output_type": "execute_result"
    }
   ],
   "source": [
    "# Now use pivot tables, display only the last 10 years for readability\n",
    "\n",
    "pd.pivot_table(netflix_data.query('release_year > 2012'), \n",
    "               index='type', \n",
    "               columns='release_year', \n",
    "               values='imdb_score', \n",
    "               aggfunc='mean').style.background_gradient(cmap='RdYlGn', axis=1)"
   ]
  }
 ],
 "metadata": {
  "kernelspec": {
   "display_name": "Python 3 (ipykernel)",
   "language": "python",
   "name": "python3"
  },
  "language_info": {
   "codemirror_mode": {
    "name": "ipython",
    "version": 3
   },
   "file_extension": ".py",
   "mimetype": "text/x-python",
   "name": "python",
   "nbconvert_exporter": "python",
   "pygments_lexer": "ipython3",
   "version": "3.11.7"
  }
 },
 "nbformat": 4,
 "nbformat_minor": 5
}
